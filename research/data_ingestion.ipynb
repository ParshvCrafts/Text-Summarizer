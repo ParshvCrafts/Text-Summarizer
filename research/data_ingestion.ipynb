{
 "cells": [
  {
   "cell_type": "code",
   "execution_count": 27,
   "id": "c3f48aae",
   "metadata": {},
   "outputs": [],
   "source": [
    "import os"
   ]
  },
  {
   "cell_type": "code",
   "execution_count": 28,
   "id": "f2bf108a",
   "metadata": {},
   "outputs": [],
   "source": [
    "import os\n",
    "os.chdir(r\"C:\\Users\\p1a2r\\OneDrive\\Desktop\\Git Hub Projects\\Text-Summarizer\")"
   ]
  },
  {
   "cell_type": "code",
   "execution_count": 29,
   "id": "42ae9b9c",
   "metadata": {},
   "outputs": [],
   "source": [
    "from dataclasses import dataclass\n",
    "from pathlib import Path\n",
    "\n",
    "@dataclass(frozen=True)\n",
    "class DataIngestionConfig:\n",
    "    root_dir: Path\n",
    "    source_URL: str\n",
    "    local_data_file: Path\n",
    "    unzip_dir: Path"
   ]
  },
  {
   "cell_type": "code",
   "execution_count": 30,
   "id": "7b0088ea",
   "metadata": {},
   "outputs": [
    {
     "name": "stdout",
     "output_type": "stream",
     "text": [
      "Requirement already satisfied: ensure in c:\\users\\p1a2r\\onedrive\\desktop\\git hub projects\\text-summarizer\\venv\\lib\\site-packages (1.0.4)\n",
      "Requirement already satisfied: six>=1.11.0 in c:\\users\\p1a2r\\onedrive\\desktop\\git hub projects\\text-summarizer\\venv\\lib\\site-packages (from ensure) (1.17.0)\n"
     ]
    },
    {
     "name": "stderr",
     "output_type": "stream",
     "text": [
      "\n",
      "[notice] A new release of pip is available: 24.0 -> 25.2\n",
      "[notice] To update, run: python.exe -m pip install --upgrade pip\n"
     ]
    }
   ],
   "source": [
    "!pip install -qqq python-box\n",
    "!pip install -qqq PyYAML\n",
    "!pip install ensure"
   ]
  },
  {
   "cell_type": "code",
   "execution_count": 31,
   "id": "6cd543c5",
   "metadata": {},
   "outputs": [],
   "source": [
    "from src.text_summarizer.constants import *\n",
    "from src.text_summarizer.utils.common import read_yaml, create_directories"
   ]
  },
  {
   "cell_type": "code",
   "execution_count": 32,
   "id": "e09f879b",
   "metadata": {},
   "outputs": [],
   "source": [
    "class ConfigurationManager:\n",
    "    def __init__(self,\n",
    "                 config_filepath=CONFIG_FILE_PATH,\n",
    "                 params_filepath=PARAMS_FILE_PATH):\n",
    "        \n",
    "        # Check if config files exist\n",
    "        if not os.path.exists(config_filepath):\n",
    "            raise FileNotFoundError(f\"Configuration file not found: {config_filepath}\")\n",
    "        if not os.path.exists(params_filepath):\n",
    "            raise FileNotFoundError(f\"Parameters file not found: {params_filepath}\")\n",
    "        \n",
    "        self.config = read_yaml(config_filepath)\n",
    "        self.params = read_yaml(params_filepath)\n",
    "        \n",
    "        # Check if artifacts_root exists in config\n",
    "        if not hasattr(self.config, 'artifacts_root'):\n",
    "            raise KeyError(\"'artifacts_root' key not found in config.yaml. Please add: artifacts_root: artifacts\")\n",
    "        \n",
    "        create_directories([self.config.artifacts_root])\n",
    "        \n",
    "    def get_data_ingestion_config(self) -> DataIngestionConfig:\n",
    "        # Check if data_ingestion section exists\n",
    "        if not hasattr(self.config, 'data_ingestion'):\n",
    "            raise KeyError(\"'data_ingestion' section not found in config.yaml\")\n",
    "        \n",
    "        config = self.config.data_ingestion\n",
    "        \n",
    "        # Check required keys\n",
    "        required_keys = ['root_dir', 'source_URL', 'local_data_file', 'unzip_dir']\n",
    "        for key in required_keys:\n",
    "            if not hasattr(config, key):\n",
    "                raise KeyError(f\"'{key}' not found in data_ingestion section of config.yaml\")\n",
    "        \n",
    "        create_directories([config.root_dir])\n",
    "        \n",
    "        data_ingestion_config = DataIngestionConfig(\n",
    "            root_dir=Path(config.root_dir),\n",
    "            source_URL=str(config.source_URL),\n",
    "            local_data_file=Path(config.local_data_file),\n",
    "            unzip_dir=Path(config.unzip_dir)\n",
    "        )\n",
    "        \n",
    "        return data_ingestion_config\n"
   ]
  },
  {
   "cell_type": "code",
   "execution_count": 33,
   "id": "cc9783ec",
   "metadata": {},
   "outputs": [],
   "source": [
    "import urllib.request as request\n",
    "import zipfile\n",
    "from src.text_summarizer.logger import logger\n",
    "from src.text_summarizer.utils.common import get_size"
   ]
  },
  {
   "cell_type": "code",
   "execution_count": 34,
   "id": "ae1682ed",
   "metadata": {},
   "outputs": [
    {
     "name": "stdout",
     "output_type": "stream",
     "text": [
      "[2025-09-07 23:52:59,461: INFO: common]: yaml file: config\\config.yaml loaded successfully\n",
      "[2025-09-07 23:52:59,461: INFO: common]: yaml file: config\\params.yaml loaded successfully\n",
      "[2025-09-07 23:52:59,461: INFO: common]: Directory created at: artifacts\n",
      "[2025-09-07 23:52:59,461: INFO: common]: Directory created at: artifacts/data_ingestion\n",
      "[2025-09-07 23:53:04,585: INFO: 872128415]: artifacts\\data_ingestion\\data.zip download with following info: \n",
      "Connection: close\n",
      "Content-Length: 7903594\n",
      "Cache-Control: max-age=300\n",
      "Content-Security-Policy: default-src 'none'; style-src 'unsafe-inline'; sandbox\n",
      "Content-Type: application/zip\n",
      "ETag: \"dbc016a060da18070593b83afff580c9b300f0b6ea4147a7988433e04df246ca\"\n",
      "Strict-Transport-Security: max-age=31536000\n",
      "X-Content-Type-Options: nosniff\n",
      "X-Frame-Options: deny\n",
      "X-XSS-Protection: 1; mode=block\n",
      "X-GitHub-Request-Id: EA6B:357B7:F67926:14A1A77:68BE7C69\n",
      "Accept-Ranges: bytes\n",
      "Date: Mon, 08 Sep 2025 06:52:59 GMT\n",
      "Via: 1.1 varnish\n",
      "X-Served-By: cache-bur-kbur8200119-BUR\n",
      "X-Cache: HIT\n",
      "X-Cache-Hits: 0\n",
      "X-Timer: S1757314380.698844,VS0,VE1\n",
      "Vary: Authorization,Accept-Encoding\n",
      "Access-Control-Allow-Origin: *\n",
      "Cross-Origin-Resource-Policy: cross-origin\n",
      "X-Fastly-Request-ID: 273c84596f00977ae1ab78e3a5c1c9375928e555\n",
      "Expires: Mon, 08 Sep 2025 06:57:59 GMT\n",
      "Source-Age: 221\n",
      "\n",
      "\n",
      "[2025-09-07 23:53:04,745: INFO: 872128415]: Extracted zip file to: artifacts\\data_ingestion\n",
      "[2025-09-07 23:53:04,747: INFO: 872128415]: Data ingestion completed successfully!\n"
     ]
    }
   ],
   "source": [
    "class DataIngestion:\n",
    "    def __init__(self, config: DataIngestionConfig):\n",
    "        self.config = config\n",
    "        \n",
    "    def download_file(self):\n",
    "        if not os.path.exists(self.config.local_data_file):\n",
    "            # Create parent directories if they don't exist\n",
    "            os.makedirs(os.path.dirname(self.config.local_data_file), exist_ok=True)\n",
    "            \n",
    "            filename, headers = request.urlretrieve(\n",
    "                url=self.config.source_URL,\n",
    "                filename=str(self.config.local_data_file)\n",
    "            )\n",
    "            logger.info(f\"{filename} download with following info: \\n{headers}\")\n",
    "        else:\n",
    "            logger.info(f\"File already exists of size: {get_size(self.config.local_data_file)}\")\n",
    "            \n",
    "    def extract_zip_file(self):\n",
    "        \"\"\"\n",
    "        Extracts the zip file into the data directory\n",
    "        \"\"\"\n",
    "        unzip_path = self.config.unzip_dir\n",
    "        os.makedirs(unzip_path, exist_ok=True)\n",
    "        \n",
    "        try:\n",
    "            with zipfile.ZipFile(str(self.config.local_data_file), \"r\") as zip_ref:\n",
    "                zip_ref.extractall(str(unzip_path))\n",
    "            logger.info(f\"Extracted zip file to: {unzip_path}\")\n",
    "        except zipfile.BadZipFile:\n",
    "            logger.error(f\"Bad zip file: {self.config.local_data_file}\")\n",
    "            raise\n",
    "        except Exception as e:\n",
    "            logger.error(f\"Error extracting zip file: {str(e)}\")\n",
    "            raise\n",
    "\n",
    "# Main execution\n",
    "def run_data_ingestion():\n",
    "    try:\n",
    "        config = ConfigurationManager()\n",
    "        data_ingestion_config = config.get_data_ingestion_config()\n",
    "        data_ingestion = DataIngestion(config=data_ingestion_config)\n",
    "        data_ingestion.download_file()\n",
    "        data_ingestion.extract_zip_file()\n",
    "        logger.info(\"Data ingestion completed successfully!\")\n",
    "        \n",
    "    except Exception as e:\n",
    "        logger.error(f\"Data ingestion failed: {str(e)}\")\n",
    "        raise e\n",
    "\n",
    "if __name__ == \"__main__\":\n",
    "    run_data_ingestion()"
   ]
  }
 ],
 "metadata": {
  "kernelspec": {
   "display_name": "venv",
   "language": "python",
   "name": "python3"
  },
  "language_info": {
   "codemirror_mode": {
    "name": "ipython",
    "version": 3
   },
   "file_extension": ".py",
   "mimetype": "text/x-python",
   "name": "python",
   "nbconvert_exporter": "python",
   "pygments_lexer": "ipython3",
   "version": "3.11.9"
  }
 },
 "nbformat": 4,
 "nbformat_minor": 5
}
